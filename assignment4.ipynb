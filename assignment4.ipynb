{
 "cells": [
  {
   "cell_type": "code",
   "execution_count": 1,
   "id": "4acc971e-bce9-4efd-9e55-7757c8dee635",
   "metadata": {},
   "outputs": [
    {
     "data": {
      "text/plain": [
       "'[] is an empty list '"
      ]
     },
     "execution_count": 1,
     "metadata": {},
     "output_type": "execute_result"
    }
   ],
   "source": [
    "#Answer1\n",
    "'''[] is an empty list '''\n"
   ]
  },
  {
   "cell_type": "code",
   "execution_count": 3,
   "id": "e05e91c6-fb16-4206-924f-d60fa55a8734",
   "metadata": {},
   "outputs": [
    {
     "name": "stdout",
     "output_type": "stream",
     "text": [
      "[2, 4, 'Hello', 8, 10]\n"
     ]
    }
   ],
   "source": [
    "#answer2.\n",
    "spam=[2,4,6,8,10]\n",
    "spam[2]='Hello'\n",
    "print(spam)"
   ]
  },
  {
   "cell_type": "code",
   "execution_count": 5,
   "id": "2e1fa29c-25a7-46d9-9a21-fc9d384b3cdc",
   "metadata": {},
   "outputs": [
    {
     "name": "stdout",
     "output_type": "stream",
     "text": [
      "d\n"
     ]
    }
   ],
   "source": [
    "#answer3.\n",
    "spam=['a','b','c','d']\n",
    "result=spam[int(int('3'*2)/11)]\n",
    "print(result)"
   ]
  },
  {
   "cell_type": "code",
   "execution_count": 7,
   "id": "1c731467-09e3-4ebf-9744-c0b310504fae",
   "metadata": {},
   "outputs": [
    {
     "name": "stdout",
     "output_type": "stream",
     "text": [
      "d\n"
     ]
    }
   ],
   "source": [
    "#answer4\n",
    "spam=['a','b','c','d']\n",
    "print(spam[-1])"
   ]
  },
  {
   "cell_type": "code",
   "execution_count": 9,
   "id": "b942b845-94b2-4a8d-b49c-6defdae51991",
   "metadata": {},
   "outputs": [
    {
     "name": "stdout",
     "output_type": "stream",
     "text": [
      "['a', 'b']\n"
     ]
    }
   ],
   "source": [
    "#answer5\n",
    "spam=['a','b','c','d']\n",
    "print(spam[:2])"
   ]
  },
  {
   "cell_type": "code",
   "execution_count": 11,
   "id": "d5b24e2d-66ab-464b-8a98-3b85fcf4064d",
   "metadata": {},
   "outputs": [
    {
     "name": "stdout",
     "output_type": "stream",
     "text": [
      "1\n"
     ]
    }
   ],
   "source": [
    "#answer6.\n",
    "bacon=[3.14,'cat',11,'cat',True]\n",
    "print(bacon.index('cat'))"
   ]
  },
  {
   "cell_type": "code",
   "execution_count": 13,
   "id": "7b1753b9-7ef2-43fe-bb6b-d720d7d24ed8",
   "metadata": {},
   "outputs": [
    {
     "name": "stdout",
     "output_type": "stream",
     "text": [
      "[3.14, 'cat', 11, 'cat', True, 99]\n"
     ]
    }
   ],
   "source": [
    "#answer7\n",
    "bacon=[3.14,'cat',11,'cat',True]\n",
    "bacon.append(99)\n",
    "print(bacon)"
   ]
  },
  {
   "cell_type": "code",
   "execution_count": 15,
   "id": "6d77f4dd-8c57-41d1-9d68-a9e7aa5c1374",
   "metadata": {},
   "outputs": [
    {
     "name": "stdout",
     "output_type": "stream",
     "text": [
      "[3.14, 11, 'cat', True]\n"
     ]
    }
   ],
   "source": [
    "#answer8.\n",
    "bacon=[3.14,'cat',11,'cat',True]\n",
    "bacon.remove('cat')\n",
    "print(bacon)"
   ]
  },
  {
   "cell_type": "code",
   "execution_count": 19,
   "id": "0ebf5148-35cf-4e66-89f1-21c5721bd5bf",
   "metadata": {},
   "outputs": [
    {
     "name": "stdout",
     "output_type": "stream",
     "text": [
      "[1, 2, 3, 4]\n",
      "[1, 2, 1, 2, 1, 2]\n"
     ]
    }
   ],
   "source": [
    "#answer9.\n",
    "#concatenation\n",
    "list1=[1,2]\n",
    "list2=[3,4]\n",
    "result=list1+list2\n",
    "print(result)\n",
    "#replication\n",
    "list3=[1,2]\n",
    "print(list3*3)"
   ]
  },
  {
   "cell_type": "code",
   "execution_count": 27,
   "id": "fbe576da-c481-4baa-b4d8-7597d22e63e2",
   "metadata": {},
   "outputs": [
    {
     "name": "stdout",
     "output_type": "stream",
     "text": [
      "[1, 2, 3, 4]\n",
      "[1, 'hello', 2, 3, 4]\n"
     ]
    }
   ],
   "source": [
    "#answer10.\n",
    "spam=[1,2,3]\n",
    "spam.append(4)\n",
    "'''Adds an item to the end of the list\n",
    "'''\n",
    "print(spam)\n",
    "spam.insert(1,'hello')\n",
    "'''adds an item at a specified index\n",
    "'''\n",
    "print(spam)"
   ]
  },
  {
   "cell_type": "code",
   "execution_count": 33,
   "id": "9cbd9fde-1063-48bd-9728-c669cfb4d0e3",
   "metadata": {},
   "outputs": [
    {
     "name": "stdout",
     "output_type": "stream",
     "text": [
      "[1, 3, 4, 5]\n",
      "[1, 2, 3, 4]\n"
     ]
    }
   ],
   "source": [
    "#answer11\n",
    "spam=[1,2,3,4,5]\n",
    "spam.remove(2)\n",
    "print(spam)\n",
    "'''remove()= removes the first occurrence of a specified value'''\n",
    "spam=[1,2,3,4,5]\n",
    "spam.pop()\n",
    "'''pop()=removes and returns an item at a specified index(or tha last index if no index is given'''\n",
    "print(spam)"
   ]
  },
  {
   "cell_type": "code",
   "execution_count": 37,
   "id": "8d1225a6-d88a-404d-899b-9b770c993ecd",
   "metadata": {},
   "outputs": [
    {
     "name": "stdout",
     "output_type": "stream",
     "text": [
      "2\n",
      "b\n"
     ]
    }
   ],
   "source": [
    "#answer12.\n",
    "'''both are sequences of elements.\n",
    "you can access elements by indexing,using ,slicing,and loop through them'''\n",
    "list1=[1,2,3,4]\n",
    "string1=\"abcd\"\n",
    "print(list1[1])\n",
    "print(string1[1])\n"
   ]
  },
  {
   "cell_type": "code",
   "execution_count": 3,
   "id": "33091721-2583-4244-a4e5-462c4defdf05",
   "metadata": {},
   "outputs": [
    {
     "data": {
      "text/plain": [
       "'lists are mutable ,you can change ,add or remove utems in list \\ntuples are immutable ,you can not change once you created in tuple\\nlists are created using square brackets []\\ntuples are created using parenthesis ()'"
      ]
     },
     "execution_count": 3,
     "metadata": {},
     "output_type": "execute_result"
    }
   ],
   "source": [
    "#answer13.\n",
    "'''lists are mutable ,you can change ,add or remove utems in list \n",
    "tuples are immutable ,you can not change once you created in tuple\n",
    "lists are created using square brackets []\n",
    "tuples are created using parenthesis ()'''"
   ]
  },
  {
   "cell_type": "code",
   "execution_count": 11,
   "id": "12ce3e87-f35b-403d-9d73-8716361298a5",
   "metadata": {},
   "outputs": [
    {
     "name": "stdout",
     "output_type": "stream",
     "text": [
      "(42,)\n"
     ]
    }
   ],
   "source": [
    "#answer14.\n",
    "'''\n",
    "to create a tuple a single value \n",
    "'''\n",
    "tuple1=(42,)\n",
    "print(tuple1)"
   ]
  },
  {
   "cell_type": "code",
   "execution_count": 15,
   "id": "0cfa5cc3-9ac1-4244-82af-7ffe703a118f",
   "metadata": {},
   "outputs": [
    {
     "name": "stdout",
     "output_type": "stream",
     "text": [
      "(1, 2, 3, 4, 5, 6)\n",
      "[1, 2, 3, 4, 5, 6]\n"
     ]
    }
   ],
   "source": [
    "#answer15.\n",
    "''' convert a list to a tuple'''\n",
    "list1=[1,2,3,4,5,6]\n",
    "tuple1=tuple(list1)\n",
    "print(tuple1)\n",
    "''' convert a tuple to a list'''\n",
    "tuple1=(1,2,3,4,5,6)\n",
    "list1=list(tuple1)\n",
    "print(list1)"
   ]
  },
  {
   "cell_type": "code",
   "execution_count": 19,
   "id": "c39a1700-4013-49d2-91ba-57115ff7a485",
   "metadata": {},
   "outputs": [
    {
     "data": {
      "text/plain": [
       "'copy.copy(): makes a new copy of the main object ,but it shares nested objects. if you cange something in the nested objects,it will also change in the original\\ncopy.deepcopy():makes a complete new copy of the main object and all the nested objects  changes in the copied object do not affect the original ata all'"
      ]
     },
     "execution_count": 19,
     "metadata": {},
     "output_type": "execute_result"
    }
   ],
   "source": [
    "#answer17.\n",
    "'''copy.copy(): makes a new copy of the main object ,but it shares nested objects. if you cange something in the nested objects,it will also change in the original\n",
    "copy.deepcopy():makes a complete new copy of the main object and all the nested objects  changes in the copied object do not affect the original ata all'''"
   ]
  },
  {
   "cell_type": "code",
   "execution_count": null,
   "id": "c2862b67-4008-4496-a51f-2187b2052390",
   "metadata": {},
   "outputs": [],
   "source": []
  }
 ],
 "metadata": {
  "kernelspec": {
   "display_name": "Python 3 (ipykernel)",
   "language": "python",
   "name": "python3"
  },
  "language_info": {
   "codemirror_mode": {
    "name": "ipython",
    "version": 3
   },
   "file_extension": ".py",
   "mimetype": "text/x-python",
   "name": "python",
   "nbconvert_exporter": "python",
   "pygments_lexer": "ipython3",
   "version": "3.12.4"
  }
 },
 "nbformat": 4,
 "nbformat_minor": 5
}
